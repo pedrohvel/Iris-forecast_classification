{
  "metadata": {
    "kernelspec": {
      "language": "python",
      "display_name": "Python 3",
      "name": "python3"
    },
    "language_info": {
      "pygments_lexer": "ipython3",
      "nbconvert_exporter": "python",
      "version": "3.6.4",
      "file_extension": ".py",
      "codemirror_mode": {
        "name": "ipython",
        "version": 3
      },
      "name": "python",
      "mimetype": "text/x-python"
    },
    "colab": {
      "provenance": []
    }
  },
  "nbformat_minor": 0,
  "nbformat": 4,
  "cells": [
    {
      "cell_type": "code",
      "source": [
        "import pandas as pd\n",
        "import seaborn as sns\n",
        "from sklearn.model_selection import train_test_split\n",
        "from sklearn.ensemble import RandomForestClassifier\n",
        "from sklearn.metrics import confusion_matrix, classification_report\n",
        "from imblearn.over_sampling import SMOTE"
      ],
      "metadata": {
        "_uuid": "8f2839f25d086af736a60e9eeb907d3b93b6e0e5",
        "_cell_guid": "b1076dfc-b9ad-4769-8c92-a6c4dae69d19",
        "execution": {
          "iopub.status.busy": "2023-02-18T21:49:36.863284Z",
          "iopub.execute_input": "2023-02-18T21:49:36.863721Z",
          "iopub.status.idle": "2023-02-18T21:49:36.870628Z",
          "shell.execute_reply.started": "2023-02-18T21:49:36.863688Z",
          "shell.execute_reply": "2023-02-18T21:49:36.869061Z"
        },
        "trusted": true,
        "id": "JZ3jVtcOj7Tg"
      },
      "execution_count": null,
      "outputs": []
    },
    {
      "cell_type": "code",
      "source": [
        "data = pd.read_csv('/content/Iris.csv')\n",
        "data"
      ],
      "metadata": {
        "execution": {
          "iopub.status.busy": "2023-02-18T21:49:36.878328Z",
          "iopub.execute_input": "2023-02-18T21:49:36.879338Z",
          "iopub.status.idle": "2023-02-18T21:49:36.910894Z",
          "shell.execute_reply.started": "2023-02-18T21:49:36.879293Z",
          "shell.execute_reply": "2023-02-18T21:49:36.910009Z"
        },
        "trusted": true,
        "id": "9gT-R3Zpj7Th"
      },
      "execution_count": null,
      "outputs": []
    },
    {
      "cell_type": "code",
      "source": [
        "# Análise Exploratória de Dados (EDA)\n",
        "sns.pairplot(data, hue=\"Species\")\n",
        "sns.boxplot(x=\"Species\", y=\"SepalLengthCm\", data=data)\n",
        "sns.boxplot(x=\"Species\", y=\"SepalWidthCm\", data=data)\n",
        "sns.boxplot(x=\"Species\", y=\"PetalLengthCm\", data=data)\n",
        "sns.boxplot(x=\"Species\", y=\"PetalWidthCm\", data=data)"
      ],
      "metadata": {
        "execution": {
          "iopub.status.busy": "2023-02-18T21:49:36.912557Z",
          "iopub.execute_input": "2023-02-18T21:49:36.913094Z",
          "iopub.status.idle": "2023-02-18T21:49:44.821813Z",
          "shell.execute_reply.started": "2023-02-18T21:49:36.913059Z",
          "shell.execute_reply": "2023-02-18T21:49:44.820710Z"
        },
        "trusted": true,
        "id": "Hqy2yw-Jj7Th"
      },
      "execution_count": null,
      "outputs": []
    },
    {
      "cell_type": "code",
      "source": [
        "# Balanceamento das classes\n",
        "smote = SMOTE()\n",
        "X_resampled, y_resampled = smote.fit_resample(data.drop(['Id', 'Species'], axis=1), data['Species'])\n",
        "data = pd.concat([X_resampled, y_resampled], axis=1)"
      ],
      "metadata": {
        "execution": {
          "iopub.status.busy": "2023-02-18T21:49:44.823190Z",
          "iopub.execute_input": "2023-02-18T21:49:44.824387Z",
          "iopub.status.idle": "2023-02-18T21:49:44.835567Z",
          "shell.execute_reply.started": "2023-02-18T21:49:44.824348Z",
          "shell.execute_reply": "2023-02-18T21:49:44.834580Z"
        },
        "trusted": true,
        "id": "LTD7rNhLj7Ti"
      },
      "execution_count": null,
      "outputs": []
    },
    {
      "cell_type": "code",
      "source": [
        "# Dividindo os dados em conjunto de treinamento e teste\n",
        "X = data.drop(['Species'], axis=1)\n",
        "y = data['Species']\n",
        "X_train, X_test, y_train, y_test = train_test_split(X_resampled, y_resampled, test_size=0.2)"
      ],
      "metadata": {
        "execution": {
          "iopub.status.busy": "2023-02-18T21:49:44.837569Z",
          "iopub.execute_input": "2023-02-18T21:49:44.838478Z",
          "iopub.status.idle": "2023-02-18T21:49:44.847523Z",
          "shell.execute_reply.started": "2023-02-18T21:49:44.838431Z",
          "shell.execute_reply": "2023-02-18T21:49:44.846115Z"
        },
        "trusted": true,
        "id": "V-CmGgIHj7Ti"
      },
      "execution_count": null,
      "outputs": []
    },
    {
      "cell_type": "code",
      "source": [
        "# Treinando o modelo de Random Forest\n",
        "rf_model = RandomForestClassifier()\n",
        "rf_model.fit(X_train, y_train)"
      ],
      "metadata": {
        "execution": {
          "iopub.status.busy": "2023-02-18T21:49:44.849290Z",
          "iopub.execute_input": "2023-02-18T21:49:44.849871Z",
          "iopub.status.idle": "2023-02-18T21:49:45.010574Z",
          "shell.execute_reply.started": "2023-02-18T21:49:44.849824Z",
          "shell.execute_reply": "2023-02-18T21:49:45.009409Z"
        },
        "trusted": true,
        "id": "-e-o0CZ5j7Ti"
      },
      "execution_count": null,
      "outputs": []
    },
    {
      "cell_type": "code",
      "source": [
        "# Avaliando o modelo\n",
        "y_pred = rf_model.predict(X_test)\n",
        "print(confusion_matrix(y_test, y_pred))\n",
        "print(classification_report(y_test, y_pred))"
      ],
      "metadata": {
        "execution": {
          "iopub.status.busy": "2023-02-18T21:49:45.012150Z",
          "iopub.execute_input": "2023-02-18T21:49:45.012574Z",
          "iopub.status.idle": "2023-02-18T21:49:45.048068Z",
          "shell.execute_reply.started": "2023-02-18T21:49:45.012538Z",
          "shell.execute_reply": "2023-02-18T21:49:45.046995Z"
        },
        "trusted": true,
        "id": "Tkp_KnXrj7Ti"
      },
      "execution_count": null,
      "outputs": []
    }
  ]
}